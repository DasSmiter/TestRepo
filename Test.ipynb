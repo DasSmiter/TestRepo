{
  "nbformat": 4,
  "nbformat_minor": 0,
  "metadata": {
    "colab": {
      "name": "Test.ipynb",
      "provenance": [],
      "collapsed_sections": [],
      "authorship_tag": "ABX9TyPiq1xUQg0hPUmbyvPlIoX0",
      "include_colab_link": true
    },
    "kernelspec": {
      "name": "python3",
      "display_name": "Python 3"
    },
    "language_info": {
      "name": "python"
    }
  },
  "cells": [
    {
      "cell_type": "markdown",
      "metadata": {
        "id": "view-in-github",
        "colab_type": "text"
      },
      "source": [
        "<a href=\"https://colab.research.google.com/github/DasSmiter/TestRepo/blob/updates/Test.ipynb\" target=\"_parent\"><img src=\"https://colab.research.google.com/assets/colab-badge.svg\" alt=\"Open In Colab\"/></a>"
      ]
    },
    {
      "cell_type": "code",
      "metadata": {
        "colab": {
          "base_uri": "https://localhost:8080/"
        },
        "id": "arbjARLkmUvf",
        "outputId": "32d5571a-ddb0-4157-a258-4e349d0a4891"
      },
      "source": [
        "print(\"Hello World\")"
      ],
      "execution_count": 1,
      "outputs": [
        {
          "output_type": "stream",
          "text": [
            "Hello World\n"
          ],
          "name": "stdout"
        }
      ]
    },
    {
      "cell_type": "code",
      "metadata": {
        "colab": {
          "base_uri": "https://localhost:8080/"
        },
        "id": "VuRYkviAnLZd",
        "outputId": "8ef9e665-12ce-4b55-edd0-ee054f92269d"
      },
      "source": [
        "def days_to_units(num_of_days, conversion_unit):\n",
        "  if conversion_unit == \"hours\":\n",
        "    return f\"{num_of_days} days are {num_of_days*24} hours\"\n",
        "  elif conversion_unit == \"minutes\":\n",
        "    return f\"{num_of_days} days are {num_of_days*24*60} minutes\"\n",
        "  else:\n",
        "    return \"Unsupported Units\"\n",
        "\n",
        "\n",
        "def validate_and_execute():\n",
        "  user_input_number = int(days_and_unit_dictionary[\"days\"])\n",
        "  if user_input_number > 0:\n",
        "    calculated_value = days_to_units(user_input_number, days_and_unit_dictionary[\"unit\"])\n",
        "    print(calculated_value)\n",
        "  else:\n",
        "    print(\"You entered a non-positive number, no conversion!\")\n",
        "\n",
        "user_input = \"\"\n",
        "while user_input != \"exit\":\n",
        "  user_input = input(\"Hey user, enter the number of days and conversion unit\\n\")\n",
        "  days_and_unit = user_input.split(\":\")\n",
        "  print(days_and_unit)\n",
        "  try:\n",
        "    days_and_unit_dictionary = {\"days\": days_and_unit[0], \"unit\": days_and_unit[1]}\n",
        "  except:\n",
        "    print(\"Invalid Dictionary feed\")\n",
        "  print(days_and_unit_dictionary)\n",
        "  validate_and_execute()"
      ],
      "execution_count": 30,
      "outputs": [
        {
          "output_type": "stream",
          "text": [
            "Hey user, enter the number of days and conversion unit\n",
            "exit\n",
            "['exit']\n",
            "Invalid Dictionary feed\n",
            "{'days': '40', 'unit': 'minutes'}\n",
            "40 days are 57600 minutes\n"
          ],
          "name": "stdout"
        }
      ]
    },
    {
      "cell_type": "code",
      "metadata": {
        "id": "Zgl-oVKavG3t"
      },
      "source": [
        ""
      ],
      "execution_count": null,
      "outputs": []
    }
  ]
}