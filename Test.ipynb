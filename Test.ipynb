{
  "nbformat": 4,
  "nbformat_minor": 0,
  "metadata": {
    "colab": {
      "name": "Test.ipynb",
      "provenance": [],
      "collapsed_sections": [],
      "authorship_tag": "ABX9TyNK40EU9NBuNJpCAD4gLLCh",
      "include_colab_link": true
    },
    "kernelspec": {
      "name": "python3",
      "display_name": "Python 3"
    },
    "language_info": {
      "name": "python"
    }
  },
  "cells": [
    {
      "cell_type": "markdown",
      "metadata": {
        "id": "view-in-github",
        "colab_type": "text"
      },
      "source": [
        "<a href=\"https://colab.research.google.com/github/DasSmiter/TestRepo/blob/main/Test.ipynb\" target=\"_parent\"><img src=\"https://colab.research.google.com/assets/colab-badge.svg\" alt=\"Open In Colab\"/></a>"
      ]
    },
    {
      "cell_type": "code",
      "metadata": {
        "colab": {
          "base_uri": "https://localhost:8080/"
        },
        "id": "arbjARLkmUvf",
        "outputId": "32d5571a-ddb0-4157-a258-4e349d0a4891"
      },
      "source": [
        "print(\"Hello World\")"
      ],
      "execution_count": 1,
      "outputs": [
        {
          "output_type": "stream",
          "text": [
            "Hello World\n"
          ],
          "name": "stdout"
        }
      ]
    },
    {
      "cell_type": "code",
      "metadata": {
        "id": "VuRYkviAnLZd"
      },
      "source": [
        "calculation_to_units = 24\n",
        "name_of_unit = \"hours\"\n",
        "\n",
        "def days_to_units(num_of_days):\n",
        "    print(f\"{num_of_days} days are {num_of_days*calculation_to_units} {name_of_unit}\")\n",
        "    print(\"All good!\")\n",
        "\n",
        "try:\n",
        "  user_days = int(input(\"Give us a number of days!\\n\"))\n",
        "except:\n",
        "  print(\"Not a valid int\")\n",
        "days_to_units(user_days)"
      ],
      "execution_count": null,
      "outputs": []
    },
    {
      "cell_type": "code",
      "metadata": {
        "id": "Zgl-oVKavG3t"
      },
      "source": [
        ""
      ],
      "execution_count": null,
      "outputs": []
    }
  ]
}