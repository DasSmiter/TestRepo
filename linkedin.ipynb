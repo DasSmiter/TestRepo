{
  "nbformat": 4,
  "nbformat_minor": 0,
  "metadata": {
    "colab": {
      "name": "linkedin.ipynb",
      "provenance": [],
      "authorship_tag": "ABX9TyMO1q3uW/V1a3M377LC+ebu",
      "include_colab_link": true
    },
    "kernelspec": {
      "name": "python3",
      "display_name": "Python 3"
    },
    "language_info": {
      "name": "python"
    }
  },
  "cells": [
    {
      "cell_type": "markdown",
      "metadata": {
        "id": "view-in-github",
        "colab_type": "text"
      },
      "source": [
        "<a href=\"https://colab.research.google.com/github/DasSmiter/TestRepo/blob/updates/linkedin.ipynb\" target=\"_parent\"><img src=\"https://colab.research.google.com/assets/colab-badge.svg\" alt=\"Open In Colab\"/></a>"
      ]
    },
    {
      "cell_type": "code",
      "metadata": {
        "colab": {
          "base_uri": "https://localhost:8080/"
        },
        "id": "3rM4eVZe3jS_",
        "outputId": "089da8de-e32c-40b6-b310-669de1e2dbcd"
      },
      "source": [
        "#To mount the drive for use\n",
        "from google.colab import drive\n",
        "drive.mount('/content/drive')"
      ],
      "execution_count": 10,
      "outputs": [
        {
          "output_type": "stream",
          "text": [
            "Drive already mounted at /content/drive; to attempt to forcibly remount, call drive.mount(\"/content/drive\", force_remount=True).\n"
          ],
          "name": "stdout"
        }
      ]
    },
    {
      "cell_type": "code",
      "metadata": {
        "colab": {
          "base_uri": "https://localhost:8080/"
        },
        "id": "gz912dx_3mRX",
        "outputId": "2212f13d-6e8f-4f28-c81d-3f036f667cd9"
      },
      "source": [
        "#We need to update path to include the Colab folder\n",
        "import sys\n",
        "sys.path.append('/content/drive/My Drive/ColabNotebooks')\n",
        "print(\"Completed\")\n",
        "#We can now import our module in the following code blocks\n",
        "#Note for self, code defined in the colab notebooks cannot be imported.  Must convert code into .py extension (notepad works) and reupload"
      ],
      "execution_count": 14,
      "outputs": [
        {
          "output_type": "stream",
          "text": [
            "Completed\n"
          ],
          "name": "stdout"
        }
      ]
    },
    {
      "cell_type": "code",
      "metadata": {
        "colab": {
          "base_uri": "https://localhost:8080/"
        },
        "id": "CXbz2BmB6Wqt",
        "outputId": "f0bada70-21fa-48f1-adc4-a10bfe63dc61"
      },
      "source": [
        "#Lists content in the drive ending in the .py extension\n",
        "!ls /content/drive/My\\ Drive/ColabNotebooks/*.py"
      ],
      "execution_count": 16,
      "outputs": [
        {
          "output_type": "stream",
          "text": [
            "'/content/drive/My Drive/ColabNotebooks/user.py'\n"
          ],
          "name": "stdout"
        }
      ]
    },
    {
      "cell_type": "code",
      "metadata": {
        "colab": {
          "base_uri": "https://localhost:8080/"
        },
        "id": "wPY0RhFP3MYE",
        "outputId": "7202c1a5-9d84-4ec8-9e5c-c3fd7026a24a"
      },
      "source": [
        "from user import User\n",
        "\n",
        "\n",
        "app_user_one = User(\"nn@nn.com\", \"Nate Propst\", \"pwd\", \"Devopser\")\n",
        "app_user_one.get_user_info()\n",
        "app_user_one.change_job_title(\"DevSecOpser\")\n",
        "app_user_one.get_user_info()"
      ],
      "execution_count": 20,
      "outputs": [
        {
          "output_type": "stream",
          "text": [
            "User Nate Propst currently works as a Devopser.  You can contact them at nn@nn.com\n",
            "User Nate Propst currently works as a DevSecOpser.  You can contact them at nn@nn.com\n"
          ],
          "name": "stdout"
        }
      ]
    }
  ]
}