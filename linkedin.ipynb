{
  "nbformat": 4,
  "nbformat_minor": 0,
  "metadata": {
    "colab": {
      "name": "linkedin.ipynb",
      "provenance": [],
      "collapsed_sections": [],
      "authorship_tag": "ABX9TyN6kUTVALHfcH3WiWfWQDjb",
      "include_colab_link": true
    },
    "kernelspec": {
      "name": "python3",
      "display_name": "Python 3"
    },
    "language_info": {
      "name": "python"
    }
  },
  "cells": [
    {
      "cell_type": "markdown",
      "metadata": {
        "id": "view-in-github",
        "colab_type": "text"
      },
      "source": [
        "<a href=\"https://colab.research.google.com/github/DasSmiter/TestRepo/blob/updates/linkedin.ipynb\" target=\"_parent\"><img src=\"https://colab.research.google.com/assets/colab-badge.svg\" alt=\"Open In Colab\"/></a>"
      ]
    },
    {
      "cell_type": "code",
      "metadata": {
        "colab": {
          "base_uri": "https://localhost:8080/"
        },
        "id": "3rM4eVZe3jS_",
        "outputId": "5847327f-c38f-41e5-a064-04862149ef5a"
      },
      "source": [
        "#To mount the drive for use\n",
        "from google.colab import drive\n",
        "drive.mount('/content/drive')"
      ],
      "execution_count": 1,
      "outputs": [
        {
          "output_type": "stream",
          "text": [
            "Mounted at /content/drive\n"
          ],
          "name": "stdout"
        }
      ]
    },
    {
      "cell_type": "code",
      "metadata": {
        "colab": {
          "base_uri": "https://localhost:8080/"
        },
        "id": "gz912dx_3mRX",
        "outputId": "19dda3ec-2e90-4d15-cb66-1218c9075360"
      },
      "source": [
        "#We need to update path to include the Colab folder\n",
        "import sys\n",
        "sys.path.append('/content/drive/My Drive/ColabNotebooks')\n",
        "print(\"Completed\")\n",
        "#We can now import our module in the following code blocks\n",
        "#Note for self, code defined in the colab notebooks cannot be imported.  Must convert code into .py extension (notepad works) and reupload"
      ],
      "execution_count": 2,
      "outputs": [
        {
          "output_type": "stream",
          "text": [
            "Completed\n"
          ],
          "name": "stdout"
        }
      ]
    },
    {
      "cell_type": "code",
      "metadata": {
        "colab": {
          "base_uri": "https://localhost:8080/"
        },
        "id": "CXbz2BmB6Wqt",
        "outputId": "1890fadb-1731-4ffa-eb63-7f4ccb6b6382"
      },
      "source": [
        "#Lists content in the drive ending in the .py extension\n",
        "!ls /content/drive/My\\ Drive/ColabNotebooks/*.py"
      ],
      "execution_count": 3,
      "outputs": [
        {
          "output_type": "stream",
          "text": [
            "'/content/drive/My Drive/ColabNotebooks/post.py'\n",
            "'/content/drive/My Drive/ColabNotebooks/user.py'\n"
          ],
          "name": "stdout"
        }
      ]
    },
    {
      "cell_type": "code",
      "metadata": {
        "id": "0Dko59hkE3w1"
      },
      "source": [
        "#post.py file will be imported later\n",
        "class Post:\n",
        "  def __init__(self, message, author):\n",
        "    self.message = message\n",
        "    self.author = author\n",
        "\n",
        "  def get_post_info(self):\n",
        "    print(f\"Post: {self.message} written by {self.author}\")"
      ],
      "execution_count": null,
      "outputs": []
    },
    {
      "cell_type": "code",
      "metadata": {
        "colab": {
          "base_uri": "https://localhost:8080/"
        },
        "id": "wPY0RhFP3MYE",
        "outputId": "3cb1106e-fd7f-45c2-f499-4a22896f8537"
      },
      "source": [
        "from user import User\n",
        "from post import Post\n",
        "\n",
        "app_user_one = User(\"nn@nn.com\", \"Nate Propst\", \"pwd\", \"Devopser\")\n",
        "app_user_one.get_user_info()\n",
        "app_user_two = User(\"jj@jj.com\", \"James Bonds\", \"secret\", \"Double 07\")\n",
        "app_user_two.get_user_info()\n",
        "\n",
        "new_post = Post(\"I'd like to get a sweet DevOps Job with my new Python Skills!\", app_user_one.name)\n",
        "new_post.get_post_info()"
      ],
      "execution_count": 5,
      "outputs": [
        {
          "output_type": "stream",
          "text": [
            "User Nate Propst currently works as a Devopser.  You can contact them at nn@nn.com\n",
            "User James Bonds currently works as a Double 07.  You can contact them at jj@jj.com\n",
            "Post: I'd like to get a sweet DevOps Job with my new Python Skills! written by Nate Propst\n"
          ],
          "name": "stdout"
        }
      ]
    }
  ]
}