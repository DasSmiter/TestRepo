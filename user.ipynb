{
  "nbformat": 4,
  "nbformat_minor": 0,
  "metadata": {
    "colab": {
      "name": "user.ipynb",
      "provenance": [],
      "collapsed_sections": [],
      "authorship_tag": "ABX9TyPnkMMPjuLhLXJCuXpwcHKh",
      "include_colab_link": true
    },
    "kernelspec": {
      "name": "python3",
      "display_name": "Python 3"
    },
    "language_info": {
      "name": "python"
    }
  },
  "cells": [
    {
      "cell_type": "markdown",
      "metadata": {
        "id": "view-in-github",
        "colab_type": "text"
      },
      "source": [
        "<a href=\"https://colab.research.google.com/github/DasSmiter/TestRepo/blob/updates/user.ipynb\" target=\"_parent\"><img src=\"https://colab.research.google.com/assets/colab-badge.svg\" alt=\"Open In Colab\"/></a>"
      ]
    },
    {
      "cell_type": "markdown",
      "metadata": {
        "id": "gGvtduvCxYzD"
      },
      "source": [
        "Imagine an webapp liked LinkedIn.  Users in this app would have several pieces of information recorded of the same type, but would also need to modify it from the webapp.\n",
        "\n",
        "OVerall Class - Blueprint for the object.\n",
        "\n",
        "Individual Object - Contains specific information for the object."
      ]
    },
    {
      "cell_type": "code",
      "metadata": {
        "id": "7YGvq12KxM5h"
      },
      "source": [
        "class User:\n",
        "  def __init__(self, email, name, password, current_job_title):\n",
        "    self.email = email\n",
        "    self.name = name\n",
        "    self.password = password\n",
        "    self.current_job_title = current_job_title\n",
        "\n",
        "  def change_password(self, new_password):\n",
        "    self.password = new_password\n",
        "\n",
        "  def change_job_title(self, new_job_title):\n",
        "    self.current_job_title = new_job_title\n",
        "\n",
        "  def get_user_info(self):\n",
        "    print(f\"User {self.name} currently works as a {self.current_job_title}.  You can contact them at {self.email}\")\n"
      ],
      "execution_count": null,
      "outputs": []
    }
  ]
}