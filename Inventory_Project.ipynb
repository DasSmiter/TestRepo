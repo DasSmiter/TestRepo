{
  "nbformat": 4,
  "nbformat_minor": 0,
  "metadata": {
    "colab": {
      "name": "Inventory Project.ipynb",
      "provenance": [],
      "collapsed_sections": [],
      "authorship_tag": "ABX9TyPmyiKrRuztDxVYY++gX0KN",
      "include_colab_link": true
    },
    "kernelspec": {
      "name": "python3",
      "display_name": "Python 3"
    },
    "language_info": {
      "name": "python"
    }
  },
  "cells": [
    {
      "cell_type": "markdown",
      "metadata": {
        "id": "view-in-github",
        "colab_type": "text"
      },
      "source": [
        "<a href=\"https://colab.research.google.com/github/DasSmiter/TestRepo/blob/updates/Inventory_Project.ipynb\" target=\"_parent\"><img src=\"https://colab.research.google.com/assets/colab-badge.svg\" alt=\"Open In Colab\"/></a>"
      ]
    },
    {
      "cell_type": "code",
      "metadata": {
        "colab": {
          "base_uri": "https://localhost:8080/"
        },
        "id": "BwlImRNoEuYj",
        "outputId": "9181a508-4c95-4427-81c0-fe9f2ae81944"
      },
      "source": [
        "#To mount the drive for use\n",
        "from google.colab import drive\n",
        "drive.mount('/content/drive')"
      ],
      "execution_count": null,
      "outputs": [
        {
          "output_type": "stream",
          "text": [
            "Mounted at /content/drive\n"
          ],
          "name": "stdout"
        }
      ]
    },
    {
      "cell_type": "markdown",
      "metadata": {
        "id": "VOaiX0IFI4dD"
      },
      "source": [
        "For this exercise we want to use the Inventory sheet and work it a bit, as you might in the real world.\n",
        "Our goals are to do the following:\n",
        "1. Import the Excel File\n",
        "2. List each company alongside their respective product count\n",
        "3. List all products with less than 10 inventory\n",
        "4. List each company with respective total inventory value\n",
        "5. Calculate inventory values for each product in the spreadsheet\n",
        "6. Write this information back into a new excel file"
      ]
    },
    {
      "cell_type": "code",
      "metadata": {
        "id": "hVZsG_SOKDfa"
      },
      "source": [
        "#!pip install openpyxl\n",
        "import openpyxl #library for operating on excel sheets\n",
        "\n",
        "#Task 1\n",
        "inv_file = openpyxl.load_workbook(\"/content/drive/My Drive/ColabNotebooks/inventory.xlsx\")\n",
        "product_list = inv_file[\"Sheet1\"] #Get the information from Sheet 1 in the inventory file\n",
        "\n",
        "#Task 2\n",
        "products_per_supplier = {}\n",
        "for product_row in range(2, product_list.max_row):\n"
      ],
      "execution_count": null,
      "outputs": []
    },
    {
      "cell_type": "code",
      "metadata": {
        "colab": {
          "base_uri": "https://localhost:8080/"
        },
        "id": "Oj_aZ1W_IVlV",
        "outputId": "f013b8d0-990f-48eb-bda4-a42e6d427e2f"
      },
      "source": [
        "#Unmount the drive and flush queue?  Run before exiting sheet to be nice\n",
        "drive.flush_and_unmount()\n",
        "print(\"Drive unmounted and no errors.\")"
      ],
      "execution_count": null,
      "outputs": [
        {
          "output_type": "stream",
          "text": [
            "Drive unmounted and no errors.\n"
          ],
          "name": "stdout"
        }
      ]
    },
    {
      "cell_type": "code",
      "metadata": {
        "colab": {
          "base_uri": "https://localhost:8080/"
        },
        "id": "T_pdmp32FUmh",
        "outputId": "0bece618-a40d-4ccc-897a-f7b24bb97a5f"
      },
      "source": [
        "#Example of Writing to file on drive, then reading it.\n",
        "with open('/content/drive/My Drive/ColabNotebooks/foo.txt', 'w') as f:\n",
        "  f.write('Hello Google Drive!')\n",
        "!cat /content/drive/My\\ Drive/ColabNotebooks/foo.txt\n"
      ],
      "execution_count": null,
      "outputs": [
        {
          "output_type": "stream",
          "text": [
            "Hello Google Drive!"
          ],
          "name": "stdout"
        }
      ]
    }
  ]
}