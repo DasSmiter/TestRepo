{
  "nbformat": 4,
  "nbformat_minor": 0,
  "metadata": {
    "colab": {
      "name": "Inventory Project.ipynb",
      "provenance": [],
      "collapsed_sections": [],
      "authorship_tag": "ABX9TyO+nqquXYZsfRpWam6iBrSc",
      "include_colab_link": true
    },
    "kernelspec": {
      "name": "python3",
      "display_name": "Python 3"
    },
    "language_info": {
      "name": "python"
    }
  },
  "cells": [
    {
      "cell_type": "markdown",
      "metadata": {
        "id": "view-in-github",
        "colab_type": "text"
      },
      "source": [
        "<a href=\"https://colab.research.google.com/github/DasSmiter/TestRepo/blob/updates/Inventory_Project.ipynb\" target=\"_parent\"><img src=\"https://colab.research.google.com/assets/colab-badge.svg\" alt=\"Open In Colab\"/></a>"
      ]
    },
    {
      "cell_type": "code",
      "metadata": {
        "colab": {
          "base_uri": "https://localhost:8080/"
        },
        "id": "BwlImRNoEuYj",
        "outputId": "aaf4a99d-6669-405b-d716-68e45e6eb0e1"
      },
      "source": [
        "#To mount the drive for use\n",
        "from google.colab import drive\n",
        "drive.mount('/content/drive')"
      ],
      "execution_count": null,
      "outputs": [
        {
          "output_type": "stream",
          "text": [
            "Mounted at /content/drive\n"
          ],
          "name": "stdout"
        }
      ]
    },
    {
      "cell_type": "markdown",
      "metadata": {
        "id": "VOaiX0IFI4dD"
      },
      "source": [
        "For this exercise we want to use the Inventory sheet and work it a bit, as you might in the real world.\n",
        "Our goals are to do the following:\n",
        "1. Import the Excel File\n",
        "2. List each company alongside their respective product count\n",
        "3. List all products with less than 10 inventory\n",
        "4. List each company with respective total inventory value\n",
        "5. Calculate inventory values for each product in the spreadsheet\n",
        "6. Write this information back into a new excel file"
      ]
    },
    {
      "cell_type": "code",
      "metadata": {
        "id": "hVZsG_SOKDfa",
        "colab": {
          "base_uri": "https://localhost:8080/"
        },
        "outputId": "80338df4-583c-41fa-b308-628a52320417"
      },
      "source": [
        "#!pip install openpyxl\n",
        "import openpyxl #library for operating on excel sheets\n",
        "\n",
        "#Task 1\n",
        "inv_file = openpyxl.load_workbook(\"/content/drive/My Drive/ColabNotebooks/inventory.xlsx\")\n",
        "product_list = inv_file[\"Sheet1\"] #Get the information from Sheet 1 in the inventory file\n",
        "\n",
        "#Task 2\n",
        "products_per_supplier = {} #format of {\"Company Name\": 20, \"Copmany2\": 15, etc}\n",
        "total_value_per_supplier = {} \n",
        "product_under_10_inventory = {}\n",
        "\n",
        "for product_row in range(2, product_list.max_row + 1):\n",
        "  supplier_name = product_list.cell(product_row, 4).value\n",
        "  inventory = product_list.cell(product_row, 2).value\n",
        "  price = product_list.cell(product_row, 3).value\n",
        "  product_num = product_list.cell(product_row, 1).value\n",
        "  inventory_price = product_list.cell(product_row, 5)\n",
        "\n",
        "  #Calculate the number of products per supplier\n",
        "  if supplier_name in products_per_supplier:\n",
        "    current_num_products = products_per_supplier.get(supplier_name)\n",
        "    products_per_supplier[supplier_name] = current_num_products + 1\n",
        "  else:\n",
        "    print(\"adding a new supplier\")\n",
        "    products_per_supplier[supplier_name] = 1\n",
        "\n",
        "  #Task 3\n",
        "  #List all products with inventory less than 10\n",
        "  if inventory < 10:\n",
        "    product_under_10_inventory[product_num] = int(inventory)\n",
        "\n",
        "  #Task 4\n",
        "  #Calculate the total value of inventory per supplier\n",
        "  if supplier_name in total_value_per_supplier:\n",
        "    current_total_value = total_value_per_supplier.get(supplier_name)\n",
        "    total_value_per_supplier[supplier_name] = current_total_value + inventory * price\n",
        "  else:\n",
        "    total_value_per_supplier[supplier_name] = inventory * price\n",
        "\n",
        "  #Task 5\n",
        "  #Calculate total inventory price\n",
        "  #Note this saves to a temporary version of a sheet, initialized as inv_file earlier.  We still need to save that file below outside the loop.\n",
        "  inventory_price.value = inventory * price\n",
        "\n",
        "#Task 6\n",
        "#Save the final result to a file\n",
        "inv_file.save(\"/content/drive/My Drive/ColabNotebooks/inventory_with_total_value.xlsx\")\n",
        "#print(products_per_supplier)\n",
        "#print(total_value_per_supplier)\n",
        "#print(product_under_10_inventory)"
      ],
      "execution_count": null,
      "outputs": [
        {
          "output_type": "stream",
          "text": [
            "adding a new supplier\n",
            "adding a new supplier\n",
            "adding a new supplier\n"
          ],
          "name": "stdout"
        }
      ]
    },
    {
      "cell_type": "code",
      "metadata": {
        "colab": {
          "base_uri": "https://localhost:8080/"
        },
        "id": "Oj_aZ1W_IVlV",
        "outputId": "f013b8d0-990f-48eb-bda4-a42e6d427e2f"
      },
      "source": [
        "#Unmount the drive and flush queue?  Run before exiting sheet to be nice\n",
        "drive.flush_and_unmount()\n",
        "print(\"Drive unmounted and no errors.\")"
      ],
      "execution_count": null,
      "outputs": [
        {
          "output_type": "stream",
          "text": [
            "Drive unmounted and no errors.\n"
          ],
          "name": "stdout"
        }
      ]
    },
    {
      "cell_type": "code",
      "metadata": {
        "colab": {
          "base_uri": "https://localhost:8080/"
        },
        "id": "T_pdmp32FUmh",
        "outputId": "0bece618-a40d-4ccc-897a-f7b24bb97a5f"
      },
      "source": [
        "#Example of Writing to file on drive, then reading it.\n",
        "with open('/content/drive/My Drive/ColabNotebooks/foo.txt', 'w') as f:\n",
        "  f.write('Hello Google Drive!')\n",
        "!cat /content/drive/My\\ Drive/ColabNotebooks/foo.txt\n"
      ],
      "execution_count": null,
      "outputs": [
        {
          "output_type": "stream",
          "text": [
            "Hello Google Drive!"
          ],
          "name": "stdout"
        }
      ]
    }
  ]
}