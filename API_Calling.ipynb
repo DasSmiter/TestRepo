{
  "nbformat": 4,
  "nbformat_minor": 0,
  "metadata": {
    "colab": {
      "name": "API Calling.ipynb",
      "provenance": [],
      "collapsed_sections": [],
      "authorship_tag": "ABX9TyOZAFjcZqQ7ubwqs6Uru2pD",
      "include_colab_link": true
    },
    "kernelspec": {
      "name": "python3",
      "display_name": "Python 3"
    },
    "language_info": {
      "name": "python"
    }
  },
  "cells": [
    {
      "cell_type": "markdown",
      "metadata": {
        "id": "view-in-github",
        "colab_type": "text"
      },
      "source": [
        "<a href=\"https://colab.research.google.com/github/DasSmiter/TestRepo/blob/API-Calling/API_Calling.ipynb\" target=\"_parent\"><img src=\"https://colab.research.google.com/assets/colab-badge.svg\" alt=\"Open In Colab\"/></a>"
      ]
    },
    {
      "cell_type": "code",
      "metadata": {
        "id": "cok5MmVcI_M2"
      },
      "source": [
        "import requests\n",
        "\n",
        "gitlab_api_prefix = \"https://gitlab.com/apie/v4/\"\n",
        "requests.get(\"https://gitlab.com/api/v4/users/nanuchi/projects\")"
      ],
      "execution_count": 2,
      "outputs": []
    }
  ]
}