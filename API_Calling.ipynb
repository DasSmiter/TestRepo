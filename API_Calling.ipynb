{
  "nbformat": 4,
  "nbformat_minor": 0,
  "metadata": {
    "colab": {
      "name": "API Calling.ipynb",
      "provenance": [],
      "collapsed_sections": [],
      "authorship_tag": "ABX9TyO1i6Ow7kWr4Zt4Jempw09L",
      "include_colab_link": true
    },
    "kernelspec": {
      "name": "python3",
      "display_name": "Python 3"
    },
    "language_info": {
      "name": "python"
    }
  },
  "cells": [
    {
      "cell_type": "markdown",
      "metadata": {
        "id": "view-in-github",
        "colab_type": "text"
      },
      "source": [
        "<a href=\"https://colab.research.google.com/github/DasSmiter/TestRepo/blob/API-Calling/API_Calling.ipynb\" target=\"_parent\"><img src=\"https://colab.research.google.com/assets/colab-badge.svg\" alt=\"Open In Colab\"/></a>"
      ]
    },
    {
      "cell_type": "code",
      "metadata": {
        "colab": {
          "base_uri": "https://localhost:8080/"
        },
        "id": "cok5MmVcI_M2",
        "outputId": "64356792-9edd-474e-e560-b36faf8ffbbf"
      },
      "source": [
        "import requests\n",
        "\n",
        "gitlab_api_prefix = \"https://gitlab.com/apie/v4/\"\n",
        "response = requests.get(\"https://gitlab.com/api/v4/users/nanuchi/projects\")\n",
        "my_projects = response.json()\n",
        "\n",
        "for project in my_projects:\n",
        "  print(f\"Project Name: {project['name']} \\nProject Url: {project['web_url']}\\n\")"
      ],
      "execution_count": 9,
      "outputs": [
        {
          "output_type": "stream",
          "text": [
            "Project Name: online-shop-microservices-deployment \n",
            "Project Url: https://gitlab.com/nanuchi/online-shop-microservices-deployment\n",
            "\n",
            "Project Name: devops-tool-of-month \n",
            "Project Url: https://gitlab.com/nanuchi/devops-tool-of-month\n",
            "\n",
            "Project Name: ansible-learn \n",
            "Project Url: https://gitlab.com/nanuchi/ansible-learn\n",
            "\n",
            "Project Name: python-automation \n",
            "Project Url: https://gitlab.com/nanuchi/python-automation\n",
            "\n",
            "Project Name: python-programming \n",
            "Project Url: https://gitlab.com/nanuchi/python-programming\n",
            "\n",
            "Project Name: udemy-terraform-learn \n",
            "Project Url: https://gitlab.com/nanuchi/udemy-terraform-learn\n",
            "\n",
            "Project Name: Java-App-DTOM \n",
            "Project Url: https://gitlab.com/nanuchi/java-app-dtom\n",
            "\n",
            "Project Name: bootcamp-kubernetes \n",
            "Project Url: https://gitlab.com/nanuchi/bootcamp-kubernetes\n",
            "\n",
            "Project Name: developing-with-docker \n",
            "Project Url: https://gitlab.com/nanuchi/developing-with-docker\n",
            "\n",
            "Project Name: terraform-learn \n",
            "Project Url: https://gitlab.com/nanuchi/terraform-learn\n",
            "\n",
            "Project Name: jenkins-shared-library \n",
            "Project Url: https://gitlab.com/nanuchi/jenkins-shared-library\n",
            "\n",
            "Project Name: java-maven-app \n",
            "Project Url: https://gitlab.com/nanuchi/java-maven-app\n",
            "\n",
            "Project Name: test-node-app \n",
            "Project Url: https://gitlab.com/nanuchi/test-node-app\n",
            "\n",
            "Project Name: EFK-course \n",
            "Project Url: https://gitlab.com/nanuchi/efk-course-commands\n",
            "\n",
            "Project Name: node-app \n",
            "Project Url: https://gitlab.com/nanuchi/node-app\n",
            "\n",
            "Project Name: java-app \n",
            "Project Url: https://gitlab.com/nanuchi/java-app\n",
            "\n",
            "Project Name: youtube-tutorial-series \n",
            "Project Url: https://gitlab.com/nanuchi/youtube-tutorial-series\n",
            "\n",
            "Project Name: techworld-js-docker-demo-app \n",
            "Project Url: https://gitlab.com/nanuchi/techworld-js-docker-demo-app\n",
            "\n"
          ],
          "name": "stdout"
        }
      ]
    }
  ]
}